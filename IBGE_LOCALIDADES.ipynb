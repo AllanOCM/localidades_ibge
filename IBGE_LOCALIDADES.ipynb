{
 "cells": [
  {
   "cell_type": "code",
   "execution_count": 2,
   "id": "48226fb2",
   "metadata": {},
   "outputs": [],
   "source": [
    "import requests\n",
    "import json\n",
    "import pandas as pd"
   ]
  },
  {
   "cell_type": "markdown",
   "id": "000abfc7",
   "metadata": {},
   "source": [
    "# Consumindo API do IBGE\n",
    "### https://servicodados.ibge.gov.br/api/docs/localidades"
   ]
  },
  {
   "cell_type": "markdown",
   "id": "b0fe5850",
   "metadata": {},
   "source": [
    "# Distritos \n",
    "#### (Obtém o conjunto de distritos do Brasil)"
   ]
  },
  {
   "cell_type": "code",
   "execution_count": 19,
   "id": "b86b273a",
   "metadata": {},
   "outputs": [
    {
     "data": {
      "text/plain": [
       "{'id': '520005005',\n",
       " 'nome': 'Abadia de Goiás',\n",
       " 'municipio': {'id': '5200050',\n",
       "  'nome': 'Abadia de Goiás',\n",
       "  'microrregiao': {'id': 52010,\n",
       "   'nome': 'Goiânia',\n",
       "   'mesorregiao': {'id': 5203,\n",
       "    'nome': 'Centro Goiano',\n",
       "    'UF': {'id': 52,\n",
       "     'sigla': 'GO',\n",
       "     'nome': 'Goiás',\n",
       "     'regiao': {'id': 5, 'sigla': 'CO', 'nome': 'Centro-Oeste'}}}},\n",
       "  'regiao-imediata': {'id': 520001,\n",
       "   'nome': 'Goiânia',\n",
       "   'regiao-intermediaria': {'id': 5201,\n",
       "    'nome': 'Goiânia',\n",
       "    'UF': {'id': 52,\n",
       "     'sigla': 'GO',\n",
       "     'nome': 'Goiás',\n",
       "     'regiao': {'id': 5, 'sigla': 'CO', 'nome': 'Centro-Oeste'}}}}}}"
      ]
     },
     "execution_count": 19,
     "metadata": {},
     "output_type": "execute_result"
    }
   ],
   "source": [
    "r_distros = requests.get('https://servicodados.ibge.gov.br/api/v1/localidades/distritos').json()\n",
    "r_distros[0]"
   ]
  },
  {
   "cell_type": "markdown",
   "id": "a950f020",
   "metadata": {},
   "source": [
    "# Verificando as chaves"
   ]
  },
  {
   "cell_type": "code",
   "execution_count": 35,
   "id": "e7bb8de0",
   "metadata": {},
   "outputs": [
    {
     "data": {
      "text/plain": [
       "dict_keys(['id', 'nome', 'municipio'])"
      ]
     },
     "execution_count": 35,
     "metadata": {},
     "output_type": "execute_result"
    }
   ],
   "source": [
    "r_distros[0].keys()"
   ]
  },
  {
   "cell_type": "code",
   "execution_count": 4,
   "id": "33fc2f06",
   "metadata": {},
   "outputs": [
    {
     "data": {
      "text/plain": [
       "dict_keys(['id', 'nome', 'microrregiao', 'regiao-imediata'])"
      ]
     },
     "execution_count": 4,
     "metadata": {},
     "output_type": "execute_result"
    }
   ],
   "source": [
    "r_distros[0]['municipio'].keys()"
   ]
  },
  {
   "cell_type": "markdown",
   "id": "6eff82c7",
   "metadata": {},
   "source": [
    "# Filtrando os registros"
   ]
  },
  {
   "cell_type": "code",
   "execution_count": 18,
   "id": "1dc427b6",
   "metadata": {},
   "outputs": [
    {
     "data": {
      "text/plain": [
       "'Centro-Oeste'"
      ]
     },
     "execution_count": 18,
     "metadata": {},
     "output_type": "execute_result"
    }
   ],
   "source": [
    "r_distros[0]['municipio']['id']\n",
    "r_distros[0]['municipio']['nome']\n",
    "r_distros[0]['municipio']['regiao-imediata']['id']\n",
    "r_distros[0]['municipio']['regiao-imediata']['nome']\n",
    "r_distros[0]['municipio']['regiao-imediata']['regiao-intermediaria']['id']\n",
    "r_distros[0]['municipio']['regiao-imediata']['regiao-intermediaria']['nome']\n",
    "r_distros[0]['municipio']['regiao-imediata']['regiao-intermediaria']['UF']['id']\n",
    "r_distros[0]['municipio']['regiao-imediata']['regiao-intermediaria']['UF']['sigla']\n",
    "r_distros[0]['municipio']['regiao-imediata']['regiao-intermediaria']['UF']['nome']\n",
    "r_distros[0]['municipio']['regiao-imediata']['regiao-intermediaria']['UF']['regiao']['id']\n",
    "r_distros[0]['municipio']['regiao-imediata']['regiao-intermediaria']['UF']['regiao']['sigla']\n",
    "r_distros[0]['municipio']['regiao-imediata']['regiao-intermediaria']['UF']['regiao']['nome']"
   ]
  },
  {
   "cell_type": "code",
   "execution_count": 7,
   "id": "1faada69",
   "metadata": {},
   "outputs": [
    {
     "data": {
      "text/plain": [
       "dict_keys(['id', 'nome', 'municipio'])"
      ]
     },
     "execution_count": 7,
     "metadata": {},
     "output_type": "execute_result"
    }
   ],
   "source": [
    "r_distros[0].keys()"
   ]
  },
  {
   "cell_type": "markdown",
   "id": "d86765d7",
   "metadata": {},
   "source": [
    "# Criando função para transformar em dataframe"
   ]
  },
  {
   "cell_type": "code",
   "execution_count": 27,
   "id": "279ebe2a",
   "metadata": {},
   "outputs": [],
   "source": [
    "def GeraDfDistro(r_json):\n",
    "    _id = []; \n",
    "    _nome =[] ; \n",
    "    _municipio_id = [] ;\n",
    "    _municipio_nome = [];\n",
    "    _microrregiao_municipio_id = [];\n",
    "    _microrregiao_municipio_nome = [];\n",
    "    _regiao_imediata_id = [];\n",
    "    _regiao_imediata_nome = [] ;\n",
    "    _uf_id = [];\n",
    "    _uf_sigla = [] ;\n",
    "    _uf_nome = [] ;\n",
    "    _regiao_id = [];\n",
    "    _regiao_sigla = []; \n",
    "    _regiao_nome = [];\n",
    "\n",
    "    for idx in range(len(r_json)):\n",
    "        _id.append(r_json[idx]['id'])\n",
    "        _nome.append(r_json[idx]['nome'])\n",
    "        \n",
    "        _municipio_id.append(r_distros[idx]['municipio']['id'])\n",
    "        _municipio_nome.append(r_distros[idx]['municipio']['nome'])\n",
    "                             \n",
    "        _microrregiao_municipio_id.append(r_distros[idx]['municipio']['regiao-imediata']['id'])\n",
    "        _microrregiao_municipio_nome.append(r_distros[idx]['municipio']['regiao-imediata']['nome'])\n",
    "                             \n",
    "        _regiao_imediata_id.append(r_distros[idx]['municipio']['regiao-imediata']['regiao-intermediaria']['id'])\n",
    "        _regiao_imediata_nome.append(r_distros[idx]['municipio']['regiao-imediata']['regiao-intermediaria']['nome'])\n",
    "                             \n",
    "        _uf_id.append(r_distros[idx]['municipio']['regiao-imediata']['regiao-intermediaria']['UF']['id'])\n",
    "        _uf_sigla.append(r_distros[idx]['municipio']['regiao-imediata']['regiao-intermediaria']['UF']['sigla'])\n",
    "        _uf_nome.append(r_distros[idx]['municipio']['regiao-imediata']['regiao-intermediaria']['UF']['nome'])\n",
    "                             \n",
    "        _regiao_id.append(r_distros[idx]['municipio']['regiao-imediata']['regiao-intermediaria']['UF']['regiao']['id'])\n",
    "        _regiao_sigla.append(r_distros[idx]['municipio']['regiao-imediata']['regiao-intermediaria']['UF']['regiao']['sigla'])\n",
    "        _regiao_nome.append(r_distros[idx]['municipio']['regiao-imediata']['regiao-intermediaria']['UF']['regiao']['nome'])\n",
    "    \n",
    "    df = pd.DataFrame({\n",
    "        \"id\" : _id,\n",
    "        \"nome\" : _nome,\n",
    "        \"municipio_id\" : _municipio_id,\n",
    "        \"municipio_nome\" : _municipio_nome,\n",
    "        \"microrregiao_municipio_id\" : _microrregiao_municipio_id,\n",
    "        \"microrregiao_municipio_nome\" : _microrregiao_municipio_nome,\n",
    "        \"regiao_imediata_id\" : _regiao_imediata_id,\n",
    "        \"regiao_imediata_nome\" : _regiao_imediata_nome,\n",
    "        \"uf_id\" : _uf_id,\n",
    "        \"uf_sigla\" : _uf_sigla,\n",
    "        \"uf_nome\" : _uf_nome,\n",
    "        \"regiao_id\" : _regiao_id,\n",
    "        \"regiao_sigla\" : _regiao_sigla,\n",
    "        \"regiao_nome\" : _regiao_nome\n",
    "    })\n",
    "    return df"
   ]
  },
  {
   "cell_type": "markdown",
   "id": "0475c733",
   "metadata": {},
   "source": [
    "# Testando"
   ]
  },
  {
   "cell_type": "code",
   "execution_count": 28,
   "id": "fb0f0e29",
   "metadata": {},
   "outputs": [
    {
     "data": {
      "text/html": [
       "<div>\n",
       "<style scoped>\n",
       "    .dataframe tbody tr th:only-of-type {\n",
       "        vertical-align: middle;\n",
       "    }\n",
       "\n",
       "    .dataframe tbody tr th {\n",
       "        vertical-align: top;\n",
       "    }\n",
       "\n",
       "    .dataframe thead th {\n",
       "        text-align: right;\n",
       "    }\n",
       "</style>\n",
       "<table border=\"1\" class=\"dataframe\">\n",
       "  <thead>\n",
       "    <tr style=\"text-align: right;\">\n",
       "      <th></th>\n",
       "      <th>id</th>\n",
       "      <th>nome</th>\n",
       "      <th>municipio_id</th>\n",
       "      <th>municipio_nome</th>\n",
       "      <th>microrregiao_municipio_id</th>\n",
       "      <th>microrregiao_municipio_nome</th>\n",
       "      <th>regiao_imediata_id</th>\n",
       "      <th>regiao_imediata_nome</th>\n",
       "      <th>uf_id</th>\n",
       "      <th>uf_sigla</th>\n",
       "      <th>uf_nome</th>\n",
       "      <th>regiao_id</th>\n",
       "      <th>regiao_sigla</th>\n",
       "      <th>regiao_nome</th>\n",
       "    </tr>\n",
       "  </thead>\n",
       "  <tbody>\n",
       "    <tr>\n",
       "      <th>0</th>\n",
       "      <td>520005005</td>\n",
       "      <td>Abadia de Goiás</td>\n",
       "      <td>5200050</td>\n",
       "      <td>Abadia de Goiás</td>\n",
       "      <td>520001</td>\n",
       "      <td>Goiânia</td>\n",
       "      <td>5201</td>\n",
       "      <td>Goiânia</td>\n",
       "      <td>52</td>\n",
       "      <td>GO</td>\n",
       "      <td>Goiás</td>\n",
       "      <td>5</td>\n",
       "      <td>CO</td>\n",
       "      <td>Centro-Oeste</td>\n",
       "    </tr>\n",
       "    <tr>\n",
       "      <th>1</th>\n",
       "      <td>310010405</td>\n",
       "      <td>Abadia dos Dourados</td>\n",
       "      <td>3100104</td>\n",
       "      <td>Abadia dos Dourados</td>\n",
       "      <td>310061</td>\n",
       "      <td>Monte Carmelo</td>\n",
       "      <td>3111</td>\n",
       "      <td>Uberlândia</td>\n",
       "      <td>31</td>\n",
       "      <td>MG</td>\n",
       "      <td>Minas Gerais</td>\n",
       "      <td>3</td>\n",
       "      <td>SE</td>\n",
       "      <td>Sudeste</td>\n",
       "    </tr>\n",
       "    <tr>\n",
       "      <th>2</th>\n",
       "      <td>520010005</td>\n",
       "      <td>Abadiânia</td>\n",
       "      <td>5200100</td>\n",
       "      <td>Abadiânia</td>\n",
       "      <td>520002</td>\n",
       "      <td>Anápolis</td>\n",
       "      <td>5201</td>\n",
       "      <td>Goiânia</td>\n",
       "      <td>52</td>\n",
       "      <td>GO</td>\n",
       "      <td>Goiás</td>\n",
       "      <td>5</td>\n",
       "      <td>CO</td>\n",
       "      <td>Centro-Oeste</td>\n",
       "    </tr>\n",
       "    <tr>\n",
       "      <th>3</th>\n",
       "      <td>520010010</td>\n",
       "      <td>Posse d'Abadia</td>\n",
       "      <td>5200100</td>\n",
       "      <td>Abadiânia</td>\n",
       "      <td>520002</td>\n",
       "      <td>Anápolis</td>\n",
       "      <td>5201</td>\n",
       "      <td>Goiânia</td>\n",
       "      <td>52</td>\n",
       "      <td>GO</td>\n",
       "      <td>Goiás</td>\n",
       "      <td>5</td>\n",
       "      <td>CO</td>\n",
       "      <td>Centro-Oeste</td>\n",
       "    </tr>\n",
       "    <tr>\n",
       "      <th>4</th>\n",
       "      <td>310020305</td>\n",
       "      <td>Abaeté</td>\n",
       "      <td>3100203</td>\n",
       "      <td>Abaeté</td>\n",
       "      <td>310070</td>\n",
       "      <td>Abaeté</td>\n",
       "      <td>3113</td>\n",
       "      <td>Divinópolis</td>\n",
       "      <td>31</td>\n",
       "      <td>MG</td>\n",
       "      <td>Minas Gerais</td>\n",
       "      <td>3</td>\n",
       "      <td>SE</td>\n",
       "      <td>Sudeste</td>\n",
       "    </tr>\n",
       "    <tr>\n",
       "      <th>...</th>\n",
       "      <td>...</td>\n",
       "      <td>...</td>\n",
       "      <td>...</td>\n",
       "      <td>...</td>\n",
       "      <td>...</td>\n",
       "      <td>...</td>\n",
       "      <td>...</td>\n",
       "      <td>...</td>\n",
       "      <td>...</td>\n",
       "      <td>...</td>\n",
       "      <td>...</td>\n",
       "      <td>...</td>\n",
       "      <td>...</td>\n",
       "      <td>...</td>\n",
       "    </tr>\n",
       "    <tr>\n",
       "      <th>10644</th>\n",
       "      <td>293360415</td>\n",
       "      <td>Iguira</td>\n",
       "      <td>2933604</td>\n",
       "      <td>Xique-Xique</td>\n",
       "      <td>290021</td>\n",
       "      <td>Xique-Xique - Barra</td>\n",
       "      <td>2907</td>\n",
       "      <td>Irecê</td>\n",
       "      <td>29</td>\n",
       "      <td>BA</td>\n",
       "      <td>Bahia</td>\n",
       "      <td>2</td>\n",
       "      <td>NE</td>\n",
       "      <td>Nordeste</td>\n",
       "    </tr>\n",
       "    <tr>\n",
       "      <th>10645</th>\n",
       "      <td>251740705</td>\n",
       "      <td>Zabelê</td>\n",
       "      <td>2517407</td>\n",
       "      <td>Zabelê</td>\n",
       "      <td>250007</td>\n",
       "      <td>Monteiro</td>\n",
       "      <td>2502</td>\n",
       "      <td>Campina Grande</td>\n",
       "      <td>25</td>\n",
       "      <td>PB</td>\n",
       "      <td>Paraíba</td>\n",
       "      <td>2</td>\n",
       "      <td>NE</td>\n",
       "      <td>Nordeste</td>\n",
       "    </tr>\n",
       "    <tr>\n",
       "      <th>10646</th>\n",
       "      <td>355715405</td>\n",
       "      <td>Zacarias</td>\n",
       "      <td>3557154</td>\n",
       "      <td>Zacarias</td>\n",
       "      <td>350023</td>\n",
       "      <td>Birigui - Penápolis</td>\n",
       "      <td>3506</td>\n",
       "      <td>Araçatuba</td>\n",
       "      <td>35</td>\n",
       "      <td>SP</td>\n",
       "      <td>São Paulo</td>\n",
       "      <td>3</td>\n",
       "      <td>SE</td>\n",
       "      <td>Sudeste</td>\n",
       "    </tr>\n",
       "    <tr>\n",
       "      <th>10647</th>\n",
       "      <td>211400705</td>\n",
       "      <td>Zé Doca</td>\n",
       "      <td>2114007</td>\n",
       "      <td>Zé Doca</td>\n",
       "      <td>210009</td>\n",
       "      <td>Santa Inês</td>\n",
       "      <td>2102</td>\n",
       "      <td>Santa Inês - Bacabal</td>\n",
       "      <td>21</td>\n",
       "      <td>MA</td>\n",
       "      <td>Maranhão</td>\n",
       "      <td>2</td>\n",
       "      <td>NE</td>\n",
       "      <td>Nordeste</td>\n",
       "    </tr>\n",
       "    <tr>\n",
       "      <th>10648</th>\n",
       "      <td>421985305</td>\n",
       "      <td>Zortéa</td>\n",
       "      <td>4219853</td>\n",
       "      <td>Zortéa</td>\n",
       "      <td>420008</td>\n",
       "      <td>Joaçaba - Herval d'Oeste</td>\n",
       "      <td>4204</td>\n",
       "      <td>Chapecó</td>\n",
       "      <td>42</td>\n",
       "      <td>SC</td>\n",
       "      <td>Santa Catarina</td>\n",
       "      <td>4</td>\n",
       "      <td>S</td>\n",
       "      <td>Sul</td>\n",
       "    </tr>\n",
       "  </tbody>\n",
       "</table>\n",
       "<p>10649 rows × 14 columns</p>\n",
       "</div>"
      ],
      "text/plain": [
       "              id                 nome municipio_id       municipio_nome  \\\n",
       "0      520005005      Abadia de Goiás      5200050      Abadia de Goiás   \n",
       "1      310010405  Abadia dos Dourados      3100104  Abadia dos Dourados   \n",
       "2      520010005            Abadiânia      5200100            Abadiânia   \n",
       "3      520010010       Posse d'Abadia      5200100            Abadiânia   \n",
       "4      310020305               Abaeté      3100203               Abaeté   \n",
       "...          ...                  ...          ...                  ...   \n",
       "10644  293360415               Iguira      2933604          Xique-Xique   \n",
       "10645  251740705               Zabelê      2517407               Zabelê   \n",
       "10646  355715405             Zacarias      3557154             Zacarias   \n",
       "10647  211400705              Zé Doca      2114007              Zé Doca   \n",
       "10648  421985305               Zortéa      4219853               Zortéa   \n",
       "\n",
       "       microrregiao_municipio_id microrregiao_municipio_nome  \\\n",
       "0                         520001                     Goiânia   \n",
       "1                         310061               Monte Carmelo   \n",
       "2                         520002                    Anápolis   \n",
       "3                         520002                    Anápolis   \n",
       "4                         310070                      Abaeté   \n",
       "...                          ...                         ...   \n",
       "10644                     290021         Xique-Xique - Barra   \n",
       "10645                     250007                    Monteiro   \n",
       "10646                     350023         Birigui - Penápolis   \n",
       "10647                     210009                  Santa Inês   \n",
       "10648                     420008    Joaçaba - Herval d'Oeste   \n",
       "\n",
       "       regiao_imediata_id  regiao_imediata_nome  uf_id uf_sigla  \\\n",
       "0                    5201               Goiânia     52       GO   \n",
       "1                    3111            Uberlândia     31       MG   \n",
       "2                    5201               Goiânia     52       GO   \n",
       "3                    5201               Goiânia     52       GO   \n",
       "4                    3113           Divinópolis     31       MG   \n",
       "...                   ...                   ...    ...      ...   \n",
       "10644                2907                 Irecê     29       BA   \n",
       "10645                2502        Campina Grande     25       PB   \n",
       "10646                3506             Araçatuba     35       SP   \n",
       "10647                2102  Santa Inês - Bacabal     21       MA   \n",
       "10648                4204               Chapecó     42       SC   \n",
       "\n",
       "              uf_nome  regiao_id regiao_sigla   regiao_nome  \n",
       "0               Goiás          5           CO  Centro-Oeste  \n",
       "1        Minas Gerais          3           SE       Sudeste  \n",
       "2               Goiás          5           CO  Centro-Oeste  \n",
       "3               Goiás          5           CO  Centro-Oeste  \n",
       "4        Minas Gerais          3           SE       Sudeste  \n",
       "...               ...        ...          ...           ...  \n",
       "10644           Bahia          2           NE      Nordeste  \n",
       "10645         Paraíba          2           NE      Nordeste  \n",
       "10646       São Paulo          3           SE       Sudeste  \n",
       "10647        Maranhão          2           NE      Nordeste  \n",
       "10648  Santa Catarina          4            S           Sul  \n",
       "\n",
       "[10649 rows x 14 columns]"
      ]
     },
     "execution_count": 28,
     "metadata": {},
     "output_type": "execute_result"
    }
   ],
   "source": [
    "df_distro = GeraDfDistro(r_distros)\n",
    "df_distro"
   ]
  },
  {
   "cell_type": "markdown",
   "id": "f5ea791b",
   "metadata": {},
   "source": [
    "# Verficando as colunas e os typos do dataframe"
   ]
  },
  {
   "cell_type": "code",
   "execution_count": 32,
   "id": "1f194075",
   "metadata": {},
   "outputs": [
    {
     "name": "stdout",
     "output_type": "stream",
     "text": [
      "<class 'pandas.core.frame.DataFrame'>\n",
      "RangeIndex: 10649 entries, 0 to 10648\n",
      "Data columns (total 14 columns):\n",
      " #   Column                       Non-Null Count  Dtype \n",
      "---  ------                       --------------  ----- \n",
      " 0   id                           10649 non-null  object\n",
      " 1   nome                         10649 non-null  object\n",
      " 2   municipio_id                 10649 non-null  object\n",
      " 3   municipio_nome               10649 non-null  object\n",
      " 4   microrregiao_municipio_id    10649 non-null  int64 \n",
      " 5   microrregiao_municipio_nome  10649 non-null  object\n",
      " 6   regiao_imediata_id           10649 non-null  int64 \n",
      " 7   regiao_imediata_nome         10649 non-null  object\n",
      " 8   uf_id                        10649 non-null  int64 \n",
      " 9   uf_sigla                     10649 non-null  object\n",
      " 10  uf_nome                      10649 non-null  object\n",
      " 11  regiao_id                    10649 non-null  int64 \n",
      " 12  regiao_sigla                 10649 non-null  object\n",
      " 13  regiao_nome                  10649 non-null  object\n",
      "dtypes: int64(4), object(10)\n",
      "memory usage: 1.1+ MB\n"
     ]
    }
   ],
   "source": [
    "df_distro.info()"
   ]
  },
  {
   "cell_type": "markdown",
   "id": "1ae2b318",
   "metadata": {},
   "source": [
    "# Verificando a distribuição por região"
   ]
  },
  {
   "cell_type": "code",
   "execution_count": 31,
   "id": "c200a0df",
   "metadata": {},
   "outputs": [
    {
     "data": {
      "text/plain": [
       "<AxesSubplot:>"
      ]
     },
     "execution_count": 31,
     "metadata": {},
     "output_type": "execute_result"
    },
    {
     "data": {
      "image/png": "[encoded data removed]",
      "text/plain": [
       "<Figure size 432x288 with 1 Axes>"
      ]
     },
     "metadata": {
      "needs_background": "light"
     },
     "output_type": "display_data"
    }
   ],
   "source": [
    "df_distro['regiao_sigla'].hist()"
   ]
  },
  {
   "cell_type": "markdown",
   "id": "ed9ed641",
   "metadata": {},
   "source": [
    "# Gravando registros em csv"
   ]
  },
  {
   "cell_type": "code",
   "execution_count": 33,
   "id": "5f487ba4",
   "metadata": {},
   "outputs": [],
   "source": [
    "df_distro.to_csv('ibge_localidades.csv')"
   ]
  }
 ],
 "metadata": {
  "kernelspec": {
   "display_name": "Python 3 (ipykernel)",
   "language": "python",
   "name": "python3"
  },
  "language_info": {
   "codemirror_mode": {
    "name": "ipython",
    "version": 3
   },
   "file_extension": ".py",
   "mimetype": "text/x-python",
   "name": "python",
   "nbconvert_exporter": "python",
   "pygments_lexer": "ipython3",
   "version": "3.9.7"
  }
 },
 "nbformat": 4,
 "nbformat_minor": 5
}
